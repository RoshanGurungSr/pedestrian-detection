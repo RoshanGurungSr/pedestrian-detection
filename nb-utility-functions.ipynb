{
 "cells": [
  {
   "cell_type": "markdown",
   "id": "370d22a6-5164-4ca6-8412-a1cd1848b3c9",
   "metadata": {},
   "source": [
    "#### Research Notes\n",
    "+ Required orientation: 0, 45, 90, 135, 180, 225, 270, 315\n",
    "- MENOW Homepahe: https://chenyanwu.github.io/MEBOW/"
   ]
  },
  {
   "cell_type": "code",
   "execution_count": null,
   "id": "b3add92f-e595-42b9-bbd6-9ee80e69d8f3",
   "metadata": {
    "tags": []
   },
   "outputs": [],
   "source": [
    "import os\n",
    "import json\n",
    "import re\n",
    "import shutil\n",
    "\n",
    "import numpy as np\n",
    "import pandas as pd\n",
    "\n",
    "import matplotlib.pyplot as plt\n",
    "import seaborn as sns; sns.set()"
   ]
  },
  {
   "cell_type": "code",
   "execution_count": null,
   "id": "d0f8d972-9611-4090-b19f-197b6de73bfc",
   "metadata": {
    "tags": []
   },
   "outputs": [],
   "source": [
    "required_orientation = [0, 45, 90, 135, 180, 225, 270, 315]"
   ]
  },
  {
   "cell_type": "code",
   "execution_count": null,
   "id": "66d2a0de-2644-42e9-8fe9-1c4cf3f037f1",
   "metadata": {
    "tags": []
   },
   "outputs": [],
   "source": [
    "annotation_train_fp = \"dataset/train_hoe.json\"\n",
    "annotation_val_fp = \"dataset/val_hoe.json\""
   ]
  },
  {
   "cell_type": "markdown",
   "id": "5e9d0be8-411c-4011-88c6-ad0e7a1a8817",
   "metadata": {},
   "source": [
    "#### COCO Annotation Extraction"
   ]
  },
  {
   "cell_type": "code",
   "execution_count": null,
   "id": "f9f2eba4-7ff3-4605-ae4c-04aa88f5c62f",
   "metadata": {
    "tags": []
   },
   "outputs": [],
   "source": [
    "coco_annotation_train_fp = \"dataset/coco2017_annotations/instances_train2017.json\"\n",
    "coco_annotation_val_fp = \"dataset/coco2017_annotations/instances_val2017.json\""
   ]
  },
  {
   "cell_type": "code",
   "execution_count": null,
   "id": "cf260351-6932-4e37-a867-a99ac5fbf061",
   "metadata": {
    "tags": []
   },
   "outputs": [],
   "source": [
    "with open(coco_annotation_train_fp) as json_file:\n",
    "    annotation_coco_train = json.load(json_file)"
   ]
  },
  {
   "cell_type": "code",
   "execution_count": null,
   "id": "0da2c743-812c-40b8-8a97-44dbb11295cb",
   "metadata": {
    "tags": []
   },
   "outputs": [],
   "source": [
    "with open(coco_annotation_val_fp) as json_file:\n",
    "    annotation_coco_val = json.load(json_file)"
   ]
  },
  {
   "cell_type": "code",
   "execution_count": null,
   "id": "356ddf58-700c-49f8-93b1-af51806f961f",
   "metadata": {
    "tags": []
   },
   "outputs": [],
   "source": [
    "# bbox_train = [{\"bbox\": ann['bbox'], \"image_id\": ann['image_id'], \"instance_id\": ann['id']} \n",
    "#               for ann in annotation_coco_train['annotations'] if  ann[\"category_id\"]==1]\n",
    "\n",
    "# bbox_val = [{\"bbox\": ann['bbox'], \"image_id\": ann['image_id'], \"instance_id\": ann['id']} \n",
    "#               for ann in annotation_coco_val['annotations'] if  ann[\"category_id\"]==1]\n",
    "\n",
    "bbox_train = {ann['id']: {\"bbox\": ann['bbox'], \"image_id\": ann['image_id']}\n",
    "              for ann in annotation_coco_train['annotations'] if  ann[\"category_id\"]==1}\n",
    "\n",
    "bbox_val = {ann['id']: {\"bbox\": ann['bbox'], \"image_id\": ann['image_id']}\n",
    "              for ann in annotation_coco_val['annotations'] if  ann[\"category_id\"]==1}"
   ]
  },
  {
   "cell_type": "code",
   "execution_count": null,
   "id": "b517ecac-3dc5-4d13-b80c-35838dd41802",
   "metadata": {},
   "outputs": [],
   "source": []
  },
  {
   "cell_type": "markdown",
   "id": "a27e81a5-be7e-4394-9933-96feb28ebb83",
   "metadata": {},
   "source": [
    "#### Training Set"
   ]
  },
  {
   "cell_type": "code",
   "execution_count": null,
   "id": "926bc924-f7ae-4221-99d1-204dc4b8c2ee",
   "metadata": {
    "tags": []
   },
   "outputs": [],
   "source": [
    "with open(annotation_train_fp) as json_file:\n",
    "    annotation_train = json.load(json_file)"
   ]
  },
  {
   "cell_type": "code",
   "execution_count": null,
   "id": "0b8d86d5-86a5-4463-9db9-7a525e5946a9",
   "metadata": {
    "tags": []
   },
   "outputs": [],
   "source": [
    "unique_orientation = set(annotation_train.values())\n",
    "print(f\"Unique Orientation: {unique_orientation}\")"
   ]
  },
  {
   "cell_type": "code",
   "execution_count": null,
   "id": "644935bd-d212-41aa-bd49-3bedad7ec484",
   "metadata": {
    "tags": []
   },
   "outputs": [],
   "source": [
    "annotation_count = {}\n",
    "for orientation in unique_orientation:\n",
    "    tmp_counter = 0\n",
    "    for key, val in annotation_train.items():\n",
    "        if val == orientation:\n",
    "            tmp_counter += 1\n",
    "            \n",
    "    annotation_count[int(orientation)] = tmp_counter"
   ]
  },
  {
   "cell_type": "code",
   "execution_count": null,
   "id": "4edbf2ef-ba2a-468b-9380-60a922043d07",
   "metadata": {
    "tags": []
   },
   "outputs": [],
   "source": [
    "annotation_count_df = pd.DataFrame(annotation_count.items(), columns=[\"orientation\", \"count\"])\n",
    "annotation_count_df.head()"
   ]
  },
  {
   "cell_type": "code",
   "execution_count": null,
   "id": "9dc686bb-a25a-4145-8e99-62cd2c3dc314",
   "metadata": {
    "tags": []
   },
   "outputs": [],
   "source": [
    "plt.figure(figsize=(12, 6))\n",
    "ax = sns.barplot(annotation_count_df, x=\"orientation\", y=\"count\")\n",
    "ax.tick_params(axis=\"x\", rotation=75)\n",
    "ax.set(xlabel=\"orientation\", ylabel=\"count\")\n",
    "plt.show()"
   ]
  },
  {
   "cell_type": "code",
   "execution_count": null,
   "id": "8b3d0764-7007-4ae1-9a4d-b8c0efafa547",
   "metadata": {
    "tags": []
   },
   "outputs": [],
   "source": [
    "annotation_count_df.describe()"
   ]
  },
  {
   "cell_type": "code",
   "execution_count": null,
   "id": "1ee107db-a647-4056-99c4-12cfb54c454e",
   "metadata": {
    "tags": []
   },
   "outputs": [],
   "source": [
    "# Extract all the count for required 8 orientation\n",
    "annotation_count_df[annotation_count_df[\"orientation\"].isin(required_orientation)]"
   ]
  },
  {
   "cell_type": "code",
   "execution_count": null,
   "id": "ceca9e9f-c533-4da8-800e-c7d61c0db14f",
   "metadata": {
    "tags": []
   },
   "outputs": [],
   "source": [
    "1033+1946+763+605+5603+778+735+1906"
   ]
  },
  {
   "cell_type": "markdown",
   "id": "82623a42-47d4-4ea2-9a93-6fc7570a4504",
   "metadata": {},
   "source": [
    "#### Validation Set"
   ]
  },
  {
   "cell_type": "code",
   "execution_count": null,
   "id": "6b98a41c-0468-4dba-b559-9edc8596f6c0",
   "metadata": {
    "tags": []
   },
   "outputs": [],
   "source": [
    "with open(annotation_val_fp) as json_file:\n",
    "    annotation_val = json.load(json_file)"
   ]
  },
  {
   "cell_type": "code",
   "execution_count": null,
   "id": "5be7b26f-19ca-4348-a1b9-32bd7ba9bcf8",
   "metadata": {
    "tags": []
   },
   "outputs": [],
   "source": [
    "unique_orientation_val = set(annotation_val.values())\n",
    "print(f\"Validation Unique Orientation: {unique_orientation}\")"
   ]
  },
  {
   "cell_type": "code",
   "execution_count": null,
   "id": "1f1853ec-35aa-4919-bf2e-30b98e4c448b",
   "metadata": {
    "tags": []
   },
   "outputs": [],
   "source": [
    "annotation_count_val = {}\n",
    "for orientation in unique_orientation_val:\n",
    "    tmp_counter = 0\n",
    "    for key, val in annotation_val.items():\n",
    "        if val == orientation:\n",
    "            tmp_counter += 1\n",
    "            \n",
    "    annotation_count_val[int(orientation)] = tmp_counter"
   ]
  },
  {
   "cell_type": "code",
   "execution_count": null,
   "id": "beaebc60-10c0-4a39-aef6-f5389b36a185",
   "metadata": {
    "tags": []
   },
   "outputs": [],
   "source": [
    "annotation_count_val_df = pd.DataFrame(annotation_count_val.items(), columns=[\"orientation\", \"count\"])\n",
    "annotation_count_val_df.head()"
   ]
  },
  {
   "cell_type": "code",
   "execution_count": null,
   "id": "163a6523-d703-441e-a478-d509fecd5e3c",
   "metadata": {
    "tags": []
   },
   "outputs": [],
   "source": [
    "plt.figure(figsize=(12, 6))\n",
    "ax = sns.barplot(annotation_count_val_df, x=\"orientation\", y=\"count\")\n",
    "ax.tick_params(axis=\"x\", rotation=75)\n",
    "ax.set(xlabel=\"orientation\", ylabel=\"count\")\n",
    "plt.show()"
   ]
  },
  {
   "cell_type": "code",
   "execution_count": null,
   "id": "52d228c2-c453-4707-952e-f0439c9e8c7b",
   "metadata": {
    "tags": []
   },
   "outputs": [],
   "source": [
    "annotation_count_val_df.describe()"
   ]
  },
  {
   "cell_type": "code",
   "execution_count": null,
   "id": "06a14e14-7039-400b-9e8d-e97a55334ed9",
   "metadata": {
    "tags": []
   },
   "outputs": [],
   "source": [
    "# Extract all the count for required 8 orientation\n",
    "annotation_count_val_df[annotation_count_val_df[\"orientation\"].isin(required_orientation)]"
   ]
  },
  {
   "cell_type": "code",
   "execution_count": null,
   "id": "00d35c71-5214-4b4e-95f9-645a72ba7a87",
   "metadata": {
    "tags": []
   },
   "outputs": [],
   "source": [
    "bbox_val[510346]"
   ]
  },
  {
   "cell_type": "code",
   "execution_count": null,
   "id": "57b9fdaa-a37a-4211-9c41-ad9393093d32",
   "metadata": {
    "tags": []
   },
   "outputs": [],
   "source": []
  },
  {
   "cell_type": "markdown",
   "id": "9006ce4c-ea75-414f-b550-d90a30aff790",
   "metadata": {},
   "source": [
    "#### Dataset Preparation"
   ]
  },
  {
   "cell_type": "code",
   "execution_count": null,
   "id": "465ef37e-8dda-4450-bfe9-5856da4a6d55",
   "metadata": {
    "tags": []
   },
   "outputs": [],
   "source": [
    "train_fname_ls = [fname for fname in os.listdir(\"./dataset/train2017/\")]\n",
    "val_fname_ls = [fname for fname in os.listdir(\"./dataset/val2017/\")]"
   ]
  },
  {
   "cell_type": "code",
   "execution_count": null,
   "id": "679fc452-9c83-4e58-aff3-ea4b6ba65e3d",
   "metadata": {
    "tags": []
   },
   "outputs": [],
   "source": [
    "def annotation_mapping(fname_ls, annotations, coco_annotations):\n",
    "    fname_ls = sorted(fname_ls)\n",
    "    annotations = dict(sorted(annotations.items(), key=lambda x: x[0]))\n",
    "    \n",
    "    counter = 0\n",
    "    annotation_mapping = {}\n",
    "\n",
    "    for key, val in annotations.items():\n",
    "        if val in required_orientation:\n",
    "            image_id = key.split(\"_\")[0]\n",
    "            instance_id = int(key.split(\"_\")[1])\n",
    "            \n",
    "            for fname in fname_ls:\n",
    "                # match_id = re.search(rf\"{image_id}\\.\", fname) #TODO: Use only when full file name is available\n",
    "                match_id = re.search(rf\"{image_id}\", fname)\n",
    "\n",
    "                if match_id:\n",
    "                    if fname not in annotation_mapping.keys():\n",
    "                        tmp_coco = coco_annotations[instance_id]\n",
    "\n",
    "                        annotation_mapping[fname] = [{\"instance_id\": instance_id, \"bbox\": tmp_coco[\"bbox\"], \"label\": val}]\n",
    "                    else:\n",
    "                        tmp_coco = coco_annotations[instance_id]\n",
    "\n",
    "                        annotation_mapping[fname].append({\"instance_id\": instance_id, \"bbox\": tmp_coco[\"bbox\"], \"label\": val})\n",
    "                        \n",
    "                    break\n",
    "                    \n",
    "            counter+=1\n",
    "                \n",
    "    return annotation_mapping"
   ]
  },
  {
   "cell_type": "code",
   "execution_count": null,
   "id": "6d710b7c-3e15-4f3a-b074-3e8e5d6cd90c",
   "metadata": {
    "tags": []
   },
   "outputs": [],
   "source": [
    "train_mapping = annotation_mapping(train_fname_ls, annotation_train, bbox_train)\n",
    "val_mapping = annotation_mapping(val_fname_ls, annotation_val, bbox_val)"
   ]
  },
  {
   "cell_type": "code",
   "execution_count": null,
   "id": "7ee5276c-db7c-4ae7-8ef7-8e0e5c837fa6",
   "metadata": {
    "tags": []
   },
   "outputs": [],
   "source": [
    "new_train_fp = \"dataset/coco2017_8orienation_train_new\"\n",
    "new_val_fp = \"dataset/coco2017_8orientation_val_new\""
   ]
  },
  {
   "cell_type": "code",
   "execution_count": null,
   "id": "2389e963-f869-4e62-a65b-67be68759c26",
   "metadata": {
    "tags": []
   },
   "outputs": [],
   "source": [
    "def create_dataset(mapping_file, dataset_dir, new_dataset_dir):\n",
    "    if os.path.exists(new_dataset_dir):\n",
    "        for key, val in mapping_file.items():\n",
    "            shutil.copy(os.path.join(dataset_dir, key), new_dataset_dir)\n",
    "            \n",
    "    else:\n",
    "        os.makedirs(new_dataset_dir)\n",
    "        for key, val in mapping_file.items():\n",
    "            shutil.copy(os.path.join(dataset_dir, key), new_dataset_dir)"
   ]
  },
  {
   "cell_type": "code",
   "execution_count": null,
   "id": "aa486f99-c405-4377-aa54-122972839a44",
   "metadata": {
    "tags": []
   },
   "outputs": [],
   "source": [
    "create_dataset(train_mapping, \"./dataset/train2017/\", new_train_fp)"
   ]
  },
  {
   "cell_type": "code",
   "execution_count": null,
   "id": "cc859e46-7a50-4915-8937-441b39841217",
   "metadata": {
    "tags": []
   },
   "outputs": [],
   "source": [
    "create_dataset(val_mapping, \"./dataset/val2017/\", new_val_fp)"
   ]
  },
  {
   "cell_type": "code",
   "execution_count": null,
   "id": "5a3e7a25-4ce9-4ef3-8874-8bde824a7beb",
   "metadata": {
    "tags": []
   },
   "outputs": [],
   "source": [
    "# write train mapping dict to json file\n",
    "with open(\"dataset/train_coco2017_annotation_new.json\", \"w\") as json_file:\n",
    "    json.dump(train_mapping, json_file)"
   ]
  },
  {
   "cell_type": "code",
   "execution_count": null,
   "id": "a2b180d3-c632-4ab2-8d19-4bbb0afd8649",
   "metadata": {
    "tags": []
   },
   "outputs": [],
   "source": [
    "# write val mapping dict to json file\n",
    "with open(\"dataset/val_coco2017_annotation_new.json\", \"w\") as json_file:\n",
    "    json.dump(val_mapping, json_file)"
   ]
  },
  {
   "cell_type": "code",
   "execution_count": 1,
   "id": "d1f89c76-62a9-4cd1-8f4d-acecf8436fa1",
   "metadata": {
    "tags": []
   },
   "outputs": [],
   "source": [
    "# Zip newly extracted train dataset with 8 orientation\n",
    "!zip -q -r dataset/coco2017_8orienation_train_new.zip dataset/coco2017_8orienation_train_new/ "
   ]
  },
  {
   "cell_type": "code",
   "execution_count": null,
   "id": "7b71220b-ea3d-49fd-9e65-b19ba9a1f840",
   "metadata": {
    "tags": []
   },
   "outputs": [],
   "source": [
    "!zip -q -r dataset/coco2017_8orienation_val_new.zip dataset/coco2017_8orientation_val_new//"
   ]
  },
  {
   "cell_type": "code",
   "execution_count": null,
   "id": "8c6b802e-a69b-4646-a775-ff3b677ba964",
   "metadata": {},
   "outputs": [],
   "source": []
  }
 ],
 "metadata": {
  "kernelspec": {
   "display_name": "conda_pytorch_p310",
   "language": "python",
   "name": "conda_pytorch_p310"
  },
  "language_info": {
   "codemirror_mode": {
    "name": "ipython",
    "version": 3
   },
   "file_extension": ".py",
   "mimetype": "text/x-python",
   "name": "python",
   "nbconvert_exporter": "python",
   "pygments_lexer": "ipython3",
   "version": "3.10.14"
  }
 },
 "nbformat": 4,
 "nbformat_minor": 5
}
