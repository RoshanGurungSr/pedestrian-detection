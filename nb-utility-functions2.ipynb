{
 "cells": [
  {
   "cell_type": "markdown",
   "id": "370d22a6-5164-4ca6-8412-a1cd1848b3c9",
   "metadata": {},
   "source": [
    "#### Research Notes\n",
    "+ Required orientation: 0, 45, 90, 135, 180, 225, 270, 315\n",
    "- MENOW Homepahe: https://chenyanwu.github.io/MEBOW/"
   ]
  },
  {
   "cell_type": "markdown",
   "id": "2539a3b2-c631-4fd5-b1a5-28e0e3092f10",
   "metadata": {},
   "source": [
    "#### Import Necessary Libraries"
   ]
  },
  {
   "cell_type": "code",
   "execution_count": 1,
   "id": "b3add92f-e595-42b9-bbd6-9ee80e69d8f3",
   "metadata": {
    "tags": []
   },
   "outputs": [
    {
     "name": "stderr",
     "output_type": "stream",
     "text": [
      "Matplotlib is building the font cache; this may take a moment.\n"
     ]
    }
   ],
   "source": [
    "import os\n",
    "import json\n",
    "import re\n",
    "import shutil\n",
    "\n",
    "import numpy as np\n",
    "import pandas as pd\n",
    "\n",
    "import matplotlib.pyplot as plt\n",
    "import seaborn as sns; sns.set()"
   ]
  },
  {
   "cell_type": "code",
   "execution_count": 2,
   "id": "d0f8d972-9611-4090-b19f-197b6de73bfc",
   "metadata": {
    "tags": []
   },
   "outputs": [],
   "source": [
    "# Required 8 orientation that helps in determining the pedestrain body position for croad rossing\n",
    "required_orientation = [0, 45, 90, 135, 180, 225, 270, 315]"
   ]
  },
  {
   "cell_type": "code",
   "execution_count": 3,
   "id": "66d2a0de-2644-42e9-8fe9-1c4cf3f037f1",
   "metadata": {
    "tags": []
   },
   "outputs": [],
   "source": [
    "annotation_train_fp = \"dataset/train_hoe.json\"\n",
    "annotation_val_fp = \"dataset/val_hoe.json\""
   ]
  },
  {
   "cell_type": "markdown",
   "id": "5e9d0be8-411c-4011-88c6-ad0e7a1a8817",
   "metadata": {},
   "source": [
    "#### COCO Annotation Extraction"
   ]
  },
  {
   "cell_type": "markdown",
   "id": "1fb67a27-46ff-44f8-8c62-7303d5a6df1b",
   "metadata": {},
   "source": [
    "MEBOW paper takes COCO 2017 dataset and annotated the person in the image for various body orientation. Since, COCO has multiple objects other than that person, this following codes helps in dataset preparation"
   ]
  },
  {
   "cell_type": "code",
   "execution_count": 4,
   "id": "f9f2eba4-7ff3-4605-ae4c-04aa88f5c62f",
   "metadata": {
    "tags": []
   },
   "outputs": [],
   "source": [
    "coco_annotation_train_fp = \"dataset/coco2017_annotations/instances_train2017.json\"\n",
    "coco_annotation_val_fp = \"dataset/coco2017_annotations/instances_val2017.json\""
   ]
  },
  {
   "cell_type": "code",
   "execution_count": 5,
   "id": "cf260351-6932-4e37-a867-a99ac5fbf061",
   "metadata": {
    "tags": []
   },
   "outputs": [],
   "source": [
    "with open(coco_annotation_train_fp) as json_file:\n",
    "    annotation_coco_train = json.load(json_file)"
   ]
  },
  {
   "cell_type": "code",
   "execution_count": 6,
   "id": "0da2c743-812c-40b8-8a97-44dbb11295cb",
   "metadata": {
    "tags": []
   },
   "outputs": [],
   "source": [
    "with open(coco_annotation_val_fp) as json_file:\n",
    "    annotation_coco_val = json.load(json_file)"
   ]
  },
  {
   "cell_type": "code",
   "execution_count": 7,
   "id": "356ddf58-700c-49f8-93b1-af51806f961f",
   "metadata": {
    "tags": []
   },
   "outputs": [],
   "source": [
    "# ID -> 1 means person in the COCO dataset\n",
    "bbox_train = {ann['id']: {\"bbox\": ann['bbox'], \"image_id\": ann['image_id']}\n",
    "              for ann in annotation_coco_train['annotations'] if  ann[\"category_id\"]==1}\n",
    "\n",
    "bbox_val = {ann['id']: {\"bbox\": ann['bbox'], \"image_id\": ann['image_id']}\n",
    "              for ann in annotation_coco_val['annotations'] if  ann[\"category_id\"]==1}"
   ]
  },
  {
   "cell_type": "code",
   "execution_count": null,
   "id": "b517ecac-3dc5-4d13-b80c-35838dd41802",
   "metadata": {},
   "outputs": [],
   "source": []
  },
  {
   "cell_type": "markdown",
   "id": "a27e81a5-be7e-4394-9933-96feb28ebb83",
   "metadata": {},
   "source": [
    "#### Training Set"
   ]
  },
  {
   "cell_type": "code",
   "execution_count": 8,
   "id": "926bc924-f7ae-4221-99d1-204dc4b8c2ee",
   "metadata": {
    "tags": []
   },
   "outputs": [],
   "source": [
    "# Load Training dataset\n",
    "with open(annotation_train_fp) as json_file:\n",
    "    annotation_train = json.load(json_file)"
   ]
  },
  {
   "cell_type": "code",
   "execution_count": 9,
   "id": "0b8d86d5-86a5-4463-9db9-7a525e5946a9",
   "metadata": {
    "tags": []
   },
   "outputs": [
    {
     "name": "stdout",
     "output_type": "stream",
     "text": [
      "Unique Orientation: {0.0, 130.0, 260.0, 5.0, 135.0, 265.0, 10.0, 140.0, 270.0, 15.0, 145.0, 275.0, 20.0, 150.0, 280.0, 25.0, 155.0, 285.0, 30.0, 160.0, 290.0, 35.0, 165.0, 295.0, 40.0, 170.0, 300.0, 45.0, 175.0, 305.0, 50.0, 180.0, 310.0, 55.0, 185.0, 315.0, 60.0, 190.0, 320.0, 65.0, 195.0, 325.0, 70.0, 200.0, 330.0, 75.0, 205.0, 335.0, 80.0, 210.0, 340.0, 85.0, 215.0, 345.0, 90.0, 220.0, 350.0, 95.0, 225.0, 355.0, 100.0, 230.0, 105.0, 235.0, 110.0, 240.0, 115.0, 245.0, 120.0, 250.0, 125.0, 255.0}\n"
     ]
    }
   ],
   "source": [
    "# Check for unique orientation\n",
    "unique_orientation = set(annotation_train.values())\n",
    "print(f\"Unique Orientation: {unique_orientation}\")"
   ]
  },
  {
   "cell_type": "code",
   "execution_count": 10,
   "id": "644935bd-d212-41aa-bd49-3bedad7ec484",
   "metadata": {
    "tags": []
   },
   "outputs": [],
   "source": [
    "# Count annotation for each unique orientation\n",
    "annotation_count = {}\n",
    "for orientation in unique_orientation:\n",
    "    tmp_counter = 0\n",
    "    for key, val in annotation_train.items():\n",
    "        if val == orientation:\n",
    "            tmp_counter += 1\n",
    "            \n",
    "    annotation_count[int(orientation)] = tmp_counter"
   ]
  },
  {
   "cell_type": "code",
   "execution_count": 11,
   "id": "4edbf2ef-ba2a-468b-9380-60a922043d07",
   "metadata": {
    "tags": []
   },
   "outputs": [
    {
     "data": {
      "text/html": [
       "<div>\n",
       "<style scoped>\n",
       "    .dataframe tbody tr th:only-of-type {\n",
       "        vertical-align: middle;\n",
       "    }\n",
       "\n",
       "    .dataframe tbody tr th {\n",
       "        vertical-align: top;\n",
       "    }\n",
       "\n",
       "    .dataframe thead th {\n",
       "        text-align: right;\n",
       "    }\n",
       "</style>\n",
       "<table border=\"1\" class=\"dataframe\">\n",
       "  <thead>\n",
       "    <tr style=\"text-align: right;\">\n",
       "      <th></th>\n",
       "      <th>orientation</th>\n",
       "      <th>count</th>\n",
       "    </tr>\n",
       "  </thead>\n",
       "  <tbody>\n",
       "    <tr>\n",
       "      <th>0</th>\n",
       "      <td>0</td>\n",
       "      <td>1033</td>\n",
       "    </tr>\n",
       "    <tr>\n",
       "      <th>1</th>\n",
       "      <td>130</td>\n",
       "      <td>1256</td>\n",
       "    </tr>\n",
       "    <tr>\n",
       "      <th>2</th>\n",
       "      <td>260</td>\n",
       "      <td>1216</td>\n",
       "    </tr>\n",
       "    <tr>\n",
       "      <th>3</th>\n",
       "      <td>5</td>\n",
       "      <td>1332</td>\n",
       "    </tr>\n",
       "    <tr>\n",
       "      <th>4</th>\n",
       "      <td>135</td>\n",
       "      <td>1946</td>\n",
       "    </tr>\n",
       "  </tbody>\n",
       "</table>\n",
       "</div>"
      ],
      "text/plain": [
       "   orientation  count\n",
       "0            0   1033\n",
       "1          130   1256\n",
       "2          260   1216\n",
       "3            5   1332\n",
       "4          135   1946"
      ]
     },
     "execution_count": 11,
     "metadata": {},
     "output_type": "execute_result"
    }
   ],
   "source": [
    "annotation_count_df = pd.DataFrame(annotation_count.items(), columns=[\"orientation\", \"count\"])\n",
    "annotation_count_df.head()"
   ]
  },
  {
   "cell_type": "code",
   "execution_count": 12,
   "id": "9dc686bb-a25a-4145-8e99-62cd2c3dc314",
   "metadata": {
    "tags": []
   },
   "outputs": [
    {
     "data": {
      "image/png": "[encoded data removed]",
      "text/plain": [
       "<Figure size 1200x600 with 1 Axes>"
      ]
     },
     "metadata": {},
     "output_type": "display_data"
    }
   ],
   "source": [
    "# Plot the figure\n",
    "plt.figure(figsize=(12, 6))\n",
    "ax = sns.barplot(annotation_count_df, x=\"orientation\", y=\"count\")\n",
    "ax.tick_params(axis=\"x\", rotation=75)\n",
    "ax.set(xlabel=\"orientation\", ylabel=\"count\")\n",
    "plt.show()"
   ]
  },
  {
   "cell_type": "code",
   "execution_count": 13,
   "id": "8b3d0764-7007-4ae1-9a4d-b8c0efafa547",
   "metadata": {
    "tags": []
   },
   "outputs": [
    {
     "data": {
      "text/html": [
       "<div>\n",
       "<style scoped>\n",
       "    .dataframe tbody tr th:only-of-type {\n",
       "        vertical-align: middle;\n",
       "    }\n",
       "\n",
       "    .dataframe tbody tr th {\n",
       "        vertical-align: top;\n",
       "    }\n",
       "\n",
       "    .dataframe thead th {\n",
       "        text-align: right;\n",
       "    }\n",
       "</style>\n",
       "<table border=\"1\" class=\"dataframe\">\n",
       "  <thead>\n",
       "    <tr style=\"text-align: right;\">\n",
       "      <th></th>\n",
       "      <th>orientation</th>\n",
       "      <th>count</th>\n",
       "    </tr>\n",
       "  </thead>\n",
       "  <tbody>\n",
       "    <tr>\n",
       "      <th>count</th>\n",
       "      <td>72.000000</td>\n",
       "      <td>72.000000</td>\n",
       "    </tr>\n",
       "    <tr>\n",
       "      <th>mean</th>\n",
       "      <td>177.500000</td>\n",
       "      <td>1775.611111</td>\n",
       "    </tr>\n",
       "    <tr>\n",
       "      <th>std</th>\n",
       "      <td>104.642248</td>\n",
       "      <td>1494.136225</td>\n",
       "    </tr>\n",
       "    <tr>\n",
       "      <th>min</th>\n",
       "      <td>0.000000</td>\n",
       "      <td>501.000000</td>\n",
       "    </tr>\n",
       "    <tr>\n",
       "      <th>25%</th>\n",
       "      <td>88.750000</td>\n",
       "      <td>903.750000</td>\n",
       "    </tr>\n",
       "    <tr>\n",
       "      <th>50%</th>\n",
       "      <td>177.500000</td>\n",
       "      <td>1257.000000</td>\n",
       "    </tr>\n",
       "    <tr>\n",
       "      <th>75%</th>\n",
       "      <td>266.250000</td>\n",
       "      <td>1916.000000</td>\n",
       "    </tr>\n",
       "    <tr>\n",
       "      <th>max</th>\n",
       "      <td>355.000000</td>\n",
       "      <td>6928.000000</td>\n",
       "    </tr>\n",
       "  </tbody>\n",
       "</table>\n",
       "</div>"
      ],
      "text/plain": [
       "       orientation        count\n",
       "count    72.000000    72.000000\n",
       "mean    177.500000  1775.611111\n",
       "std     104.642248  1494.136225\n",
       "min       0.000000   501.000000\n",
       "25%      88.750000   903.750000\n",
       "50%     177.500000  1257.000000\n",
       "75%     266.250000  1916.000000\n",
       "max     355.000000  6928.000000"
      ]
     },
     "execution_count": 13,
     "metadata": {},
     "output_type": "execute_result"
    }
   ],
   "source": [
    "annotation_count_df.describe()"
   ]
  },
  {
   "cell_type": "code",
   "execution_count": 14,
   "id": "1ee107db-a647-4056-99c4-12cfb54c454e",
   "metadata": {
    "tags": []
   },
   "outputs": [
    {
     "data": {
      "text/html": [
       "<div>\n",
       "<style scoped>\n",
       "    .dataframe tbody tr th:only-of-type {\n",
       "        vertical-align: middle;\n",
       "    }\n",
       "\n",
       "    .dataframe tbody tr th {\n",
       "        vertical-align: top;\n",
       "    }\n",
       "\n",
       "    .dataframe thead th {\n",
       "        text-align: right;\n",
       "    }\n",
       "</style>\n",
       "<table border=\"1\" class=\"dataframe\">\n",
       "  <thead>\n",
       "    <tr style=\"text-align: right;\">\n",
       "      <th></th>\n",
       "      <th>orientation</th>\n",
       "      <th>count</th>\n",
       "    </tr>\n",
       "  </thead>\n",
       "  <tbody>\n",
       "    <tr>\n",
       "      <th>0</th>\n",
       "      <td>0</td>\n",
       "      <td>1033</td>\n",
       "    </tr>\n",
       "    <tr>\n",
       "      <th>4</th>\n",
       "      <td>135</td>\n",
       "      <td>1946</td>\n",
       "    </tr>\n",
       "    <tr>\n",
       "      <th>8</th>\n",
       "      <td>270</td>\n",
       "      <td>763</td>\n",
       "    </tr>\n",
       "    <tr>\n",
       "      <th>27</th>\n",
       "      <td>45</td>\n",
       "      <td>605</td>\n",
       "    </tr>\n",
       "    <tr>\n",
       "      <th>31</th>\n",
       "      <td>180</td>\n",
       "      <td>5603</td>\n",
       "    </tr>\n",
       "    <tr>\n",
       "      <th>35</th>\n",
       "      <td>315</td>\n",
       "      <td>778</td>\n",
       "    </tr>\n",
       "    <tr>\n",
       "      <th>54</th>\n",
       "      <td>90</td>\n",
       "      <td>735</td>\n",
       "    </tr>\n",
       "    <tr>\n",
       "      <th>58</th>\n",
       "      <td>225</td>\n",
       "      <td>1906</td>\n",
       "    </tr>\n",
       "  </tbody>\n",
       "</table>\n",
       "</div>"
      ],
      "text/plain": [
       "    orientation  count\n",
       "0             0   1033\n",
       "4           135   1946\n",
       "8           270    763\n",
       "27           45    605\n",
       "31          180   5603\n",
       "35          315    778\n",
       "54           90    735\n",
       "58          225   1906"
      ]
     },
     "execution_count": 14,
     "metadata": {},
     "output_type": "execute_result"
    }
   ],
   "source": [
    "# Extract all the count for required 8 orientation\n",
    "annotation_count_df[annotation_count_df[\"orientation\"].isin(required_orientation)]"
   ]
  },
  {
   "cell_type": "code",
   "execution_count": null,
   "id": "ceca9e9f-c533-4da8-800e-c7d61c0db14f",
   "metadata": {
    "tags": []
   },
   "outputs": [],
   "source": []
  },
  {
   "cell_type": "markdown",
   "id": "82623a42-47d4-4ea2-9a93-6fc7570a4504",
   "metadata": {},
   "source": [
    "#### Validation Set"
   ]
  },
  {
   "cell_type": "code",
   "execution_count": 15,
   "id": "6b98a41c-0468-4dba-b559-9edc8596f6c0",
   "metadata": {
    "tags": []
   },
   "outputs": [],
   "source": [
    "# Load Training dataset\n",
    "with open(annotation_val_fp) as json_file:\n",
    "    annotation_val = json.load(json_file)"
   ]
  },
  {
   "cell_type": "code",
   "execution_count": 16,
   "id": "5be7b26f-19ca-4348-a1b9-32bd7ba9bcf8",
   "metadata": {
    "tags": []
   },
   "outputs": [
    {
     "name": "stdout",
     "output_type": "stream",
     "text": [
      "Validation Unique Orientation: {0.0, 130.0, 260.0, 5.0, 135.0, 265.0, 10.0, 140.0, 270.0, 15.0, 145.0, 275.0, 20.0, 150.0, 280.0, 25.0, 155.0, 285.0, 30.0, 160.0, 290.0, 35.0, 165.0, 295.0, 40.0, 170.0, 300.0, 45.0, 175.0, 305.0, 50.0, 180.0, 310.0, 55.0, 185.0, 315.0, 60.0, 190.0, 320.0, 65.0, 195.0, 325.0, 70.0, 200.0, 330.0, 75.0, 205.0, 335.0, 80.0, 210.0, 340.0, 85.0, 215.0, 345.0, 90.0, 220.0, 350.0, 95.0, 225.0, 355.0, 100.0, 230.0, 105.0, 235.0, 110.0, 240.0, 115.0, 245.0, 120.0, 250.0, 125.0, 255.0}\n"
     ]
    }
   ],
   "source": [
    "# Check for unique orientation\n",
    "unique_orientation_val = set(annotation_val.values())\n",
    "print(f\"Validation Unique Orientation: {unique_orientation}\")"
   ]
  },
  {
   "cell_type": "code",
   "execution_count": 17,
   "id": "1f1853ec-35aa-4919-bf2e-30b98e4c448b",
   "metadata": {
    "tags": []
   },
   "outputs": [],
   "source": [
    "# Count annotation for each unique orientation\n",
    "annotation_count_val = {}\n",
    "for orientation in unique_orientation_val:\n",
    "    tmp_counter = 0\n",
    "    for key, val in annotation_val.items():\n",
    "        if val == orientation:\n",
    "            tmp_counter += 1\n",
    "            \n",
    "    annotation_count_val[int(orientation)] = tmp_counter"
   ]
  },
  {
   "cell_type": "code",
   "execution_count": 18,
   "id": "beaebc60-10c0-4a39-aef6-f5389b36a185",
   "metadata": {
    "tags": []
   },
   "outputs": [
    {
     "data": {
      "text/html": [
       "<div>\n",
       "<style scoped>\n",
       "    .dataframe tbody tr th:only-of-type {\n",
       "        vertical-align: middle;\n",
       "    }\n",
       "\n",
       "    .dataframe tbody tr th {\n",
       "        vertical-align: top;\n",
       "    }\n",
       "\n",
       "    .dataframe thead th {\n",
       "        text-align: right;\n",
       "    }\n",
       "</style>\n",
       "<table border=\"1\" class=\"dataframe\">\n",
       "  <thead>\n",
       "    <tr style=\"text-align: right;\">\n",
       "      <th></th>\n",
       "      <th>orientation</th>\n",
       "      <th>count</th>\n",
       "    </tr>\n",
       "  </thead>\n",
       "  <tbody>\n",
       "    <tr>\n",
       "      <th>0</th>\n",
       "      <td>0</td>\n",
       "      <td>42</td>\n",
       "    </tr>\n",
       "    <tr>\n",
       "      <th>1</th>\n",
       "      <td>130</td>\n",
       "      <td>52</td>\n",
       "    </tr>\n",
       "    <tr>\n",
       "      <th>2</th>\n",
       "      <td>260</td>\n",
       "      <td>58</td>\n",
       "    </tr>\n",
       "    <tr>\n",
       "      <th>3</th>\n",
       "      <td>5</td>\n",
       "      <td>48</td>\n",
       "    </tr>\n",
       "    <tr>\n",
       "      <th>4</th>\n",
       "      <td>135</td>\n",
       "      <td>66</td>\n",
       "    </tr>\n",
       "  </tbody>\n",
       "</table>\n",
       "</div>"
      ],
      "text/plain": [
       "   orientation  count\n",
       "0            0     42\n",
       "1          130     52\n",
       "2          260     58\n",
       "3            5     48\n",
       "4          135     66"
      ]
     },
     "execution_count": 18,
     "metadata": {},
     "output_type": "execute_result"
    }
   ],
   "source": [
    "annotation_count_val_df = pd.DataFrame(annotation_count_val.items(), columns=[\"orientation\", \"count\"])\n",
    "annotation_count_val_df.head()"
   ]
  },
  {
   "cell_type": "code",
   "execution_count": 19,
   "id": "163a6523-d703-441e-a478-d509fecd5e3c",
   "metadata": {
    "tags": []
   },
   "outputs": [
    {
     "data": {
      "image/png": "[encoded data removed]",
      "text/plain": [
       "<Figure size 1200x600 with 1 Axes>"
      ]
     },
     "metadata": {},
     "output_type": "display_data"
    }
   ],
   "source": [
    "# Plot the figure\n",
    "plt.figure(figsize=(12, 6))\n",
    "ax = sns.barplot(annotation_count_val_df, x=\"orientation\", y=\"count\")\n",
    "ax.tick_params(axis=\"x\", rotation=75)\n",
    "ax.set(xlabel=\"orientation\", ylabel=\"count\")\n",
    "plt.show()"
   ]
  },
  {
   "cell_type": "code",
   "execution_count": 20,
   "id": "52d228c2-c453-4707-952e-f0439c9e8c7b",
   "metadata": {
    "tags": []
   },
   "outputs": [
    {
     "data": {
      "text/html": [
       "<div>\n",
       "<style scoped>\n",
       "    .dataframe tbody tr th:only-of-type {\n",
       "        vertical-align: middle;\n",
       "    }\n",
       "\n",
       "    .dataframe tbody tr th {\n",
       "        vertical-align: top;\n",
       "    }\n",
       "\n",
       "    .dataframe thead th {\n",
       "        text-align: right;\n",
       "    }\n",
       "</style>\n",
       "<table border=\"1\" class=\"dataframe\">\n",
       "  <thead>\n",
       "    <tr style=\"text-align: right;\">\n",
       "      <th></th>\n",
       "      <th>orientation</th>\n",
       "      <th>count</th>\n",
       "    </tr>\n",
       "  </thead>\n",
       "  <tbody>\n",
       "    <tr>\n",
       "      <th>count</th>\n",
       "      <td>72.000000</td>\n",
       "      <td>72.000000</td>\n",
       "    </tr>\n",
       "    <tr>\n",
       "      <th>mean</th>\n",
       "      <td>177.500000</td>\n",
       "      <td>76.888889</td>\n",
       "    </tr>\n",
       "    <tr>\n",
       "      <th>std</th>\n",
       "      <td>104.642248</td>\n",
       "      <td>65.316468</td>\n",
       "    </tr>\n",
       "    <tr>\n",
       "      <th>min</th>\n",
       "      <td>0.000000</td>\n",
       "      <td>16.000000</td>\n",
       "    </tr>\n",
       "    <tr>\n",
       "      <th>25%</th>\n",
       "      <td>88.750000</td>\n",
       "      <td>38.750000</td>\n",
       "    </tr>\n",
       "    <tr>\n",
       "      <th>50%</th>\n",
       "      <td>177.500000</td>\n",
       "      <td>56.500000</td>\n",
       "    </tr>\n",
       "    <tr>\n",
       "      <th>75%</th>\n",
       "      <td>266.250000</td>\n",
       "      <td>83.000000</td>\n",
       "    </tr>\n",
       "    <tr>\n",
       "      <th>max</th>\n",
       "      <td>355.000000</td>\n",
       "      <td>330.000000</td>\n",
       "    </tr>\n",
       "  </tbody>\n",
       "</table>\n",
       "</div>"
      ],
      "text/plain": [
       "       orientation       count\n",
       "count    72.000000   72.000000\n",
       "mean    177.500000   76.888889\n",
       "std     104.642248   65.316468\n",
       "min       0.000000   16.000000\n",
       "25%      88.750000   38.750000\n",
       "50%     177.500000   56.500000\n",
       "75%     266.250000   83.000000\n",
       "max     355.000000  330.000000"
      ]
     },
     "execution_count": 20,
     "metadata": {},
     "output_type": "execute_result"
    }
   ],
   "source": [
    "annotation_count_val_df.describe()"
   ]
  },
  {
   "cell_type": "code",
   "execution_count": 21,
   "id": "06a14e14-7039-400b-9e8d-e97a55334ed9",
   "metadata": {
    "tags": []
   },
   "outputs": [
    {
     "data": {
      "text/html": [
       "<div>\n",
       "<style scoped>\n",
       "    .dataframe tbody tr th:only-of-type {\n",
       "        vertical-align: middle;\n",
       "    }\n",
       "\n",
       "    .dataframe tbody tr th {\n",
       "        vertical-align: top;\n",
       "    }\n",
       "\n",
       "    .dataframe thead th {\n",
       "        text-align: right;\n",
       "    }\n",
       "</style>\n",
       "<table border=\"1\" class=\"dataframe\">\n",
       "  <thead>\n",
       "    <tr style=\"text-align: right;\">\n",
       "      <th></th>\n",
       "      <th>orientation</th>\n",
       "      <th>count</th>\n",
       "    </tr>\n",
       "  </thead>\n",
       "  <tbody>\n",
       "    <tr>\n",
       "      <th>0</th>\n",
       "      <td>0</td>\n",
       "      <td>42</td>\n",
       "    </tr>\n",
       "    <tr>\n",
       "      <th>4</th>\n",
       "      <td>135</td>\n",
       "      <td>66</td>\n",
       "    </tr>\n",
       "    <tr>\n",
       "      <th>8</th>\n",
       "      <td>270</td>\n",
       "      <td>27</td>\n",
       "    </tr>\n",
       "    <tr>\n",
       "      <th>27</th>\n",
       "      <td>45</td>\n",
       "      <td>25</td>\n",
       "    </tr>\n",
       "    <tr>\n",
       "      <th>31</th>\n",
       "      <td>180</td>\n",
       "      <td>112</td>\n",
       "    </tr>\n",
       "    <tr>\n",
       "      <th>35</th>\n",
       "      <td>315</td>\n",
       "      <td>33</td>\n",
       "    </tr>\n",
       "    <tr>\n",
       "      <th>54</th>\n",
       "      <td>90</td>\n",
       "      <td>26</td>\n",
       "    </tr>\n",
       "    <tr>\n",
       "      <th>58</th>\n",
       "      <td>225</td>\n",
       "      <td>89</td>\n",
       "    </tr>\n",
       "  </tbody>\n",
       "</table>\n",
       "</div>"
      ],
      "text/plain": [
       "    orientation  count\n",
       "0             0     42\n",
       "4           135     66\n",
       "8           270     27\n",
       "27           45     25\n",
       "31          180    112\n",
       "35          315     33\n",
       "54           90     26\n",
       "58          225     89"
      ]
     },
     "execution_count": 21,
     "metadata": {},
     "output_type": "execute_result"
    }
   ],
   "source": [
    "# Extract all the count for required 8 orientation\n",
    "annotation_count_val_df[annotation_count_val_df[\"orientation\"].isin(required_orientation)]"
   ]
  },
  {
   "cell_type": "code",
   "execution_count": null,
   "id": "57b9fdaa-a37a-4211-9c41-ad9393093d32",
   "metadata": {
    "tags": []
   },
   "outputs": [],
   "source": []
  },
  {
   "cell_type": "markdown",
   "id": "9006ce4c-ea75-414f-b550-d90a30aff790",
   "metadata": {},
   "source": [
    "#### Dataset Preparation"
   ]
  },
  {
   "cell_type": "markdown",
   "id": "fca6d886-3a2b-478b-a908-5e88a8e33bf1",
   "metadata": {},
   "source": [
    "Following Codes takes the training and validation COCO dataset. At same time, it takes annotation from the MEBOW authors. Combining both of those mappings, dataset is created"
   ]
  },
  {
   "cell_type": "code",
   "execution_count": 22,
   "id": "465ef37e-8dda-4450-bfe9-5856da4a6d55",
   "metadata": {
    "tags": []
   },
   "outputs": [],
   "source": [
    "train_fname_ls = [fname for fname in os.listdir(\"./dataset/train2017/\")]\n",
    "val_fname_ls = [fname for fname in os.listdir(\"./dataset/val2017/\")]"
   ]
  },
  {
   "cell_type": "code",
   "execution_count": 23,
   "id": "679fc452-9c83-4e58-aff3-ea4b6ba65e3d",
   "metadata": {
    "tags": []
   },
   "outputs": [],
   "source": [
    "def annotation_mapping(fname_ls, annotations, coco_annotations):\n",
    "    fname_ls = sorted(fname_ls)\n",
    "    annotations = dict(sorted(annotations.items(), key=lambda x: x[0]))\n",
    "    \n",
    "    counter = 0\n",
    "    annotation_mapping = {}\n",
    "\n",
    "    for key, val in annotations.items():\n",
    "        if val in required_orientation:\n",
    "            image_id = key.split(\"_\")[0]\n",
    "            instance_id = int(key.split(\"_\")[1])\n",
    "            \n",
    "            for fname in fname_ls:\n",
    "                # match_id = re.search(rf\"{image_id}\\.\", fname) #TODO: Use only when full file name is available\n",
    "                match_id = re.search(rf\"{image_id}\", fname)\n",
    "\n",
    "                if match_id:\n",
    "                    if fname not in annotation_mapping.keys():\n",
    "                        tmp_coco = coco_annotations[instance_id]\n",
    "\n",
    "                        annotation_mapping[fname] = [{\"instance_id\": instance_id, \"bbox\": tmp_coco[\"bbox\"], \"label\": val}]\n",
    "                    else:\n",
    "                        tmp_coco = coco_annotations[instance_id]\n",
    "\n",
    "                        annotation_mapping[fname].append({\"instance_id\": instance_id, \"bbox\": tmp_coco[\"bbox\"], \"label\": val})\n",
    "                        \n",
    "                    break\n",
    "                    \n",
    "            counter+=1\n",
    "                \n",
    "    return annotation_mapping"
   ]
  },
  {
   "cell_type": "code",
   "execution_count": null,
   "id": "6d710b7c-3e15-4f3a-b074-3e8e5d6cd90c",
   "metadata": {
    "tags": []
   },
   "outputs": [],
   "source": [
    "train_mapping = annotation_mapping(train_fname_ls, annotation_train, bbox_train)\n",
    "val_mapping = annotation_mapping(val_fname_ls, annotation_val, bbox_val)"
   ]
  },
  {
   "cell_type": "code",
   "execution_count": null,
   "id": "7ee5276c-db7c-4ae7-8ef7-8e0e5c837fa6",
   "metadata": {
    "tags": []
   },
   "outputs": [],
   "source": [
    "new_train_fp = \"dataset/coco2017_8orienation_train_new\"\n",
    "new_val_fp = \"dataset/coco2017_8orientation_val_new\""
   ]
  },
  {
   "cell_type": "code",
   "execution_count": null,
   "id": "2389e963-f869-4e62-a65b-67be68759c26",
   "metadata": {
    "tags": []
   },
   "outputs": [],
   "source": [
    "def create_dataset(mapping_file, dataset_dir, new_dataset_dir):\n",
    "    if os.path.exists(new_dataset_dir):\n",
    "        for key, val in mapping_file.items():\n",
    "            shutil.copy(os.path.join(dataset_dir, key), new_dataset_dir)\n",
    "            \n",
    "    else:\n",
    "        os.makedirs(new_dataset_dir)\n",
    "        for key, val in mapping_file.items():\n",
    "            shutil.copy(os.path.join(dataset_dir, key), new_dataset_dir)"
   ]
  },
  {
   "cell_type": "code",
   "execution_count": null,
   "id": "aa486f99-c405-4377-aa54-122972839a44",
   "metadata": {
    "tags": []
   },
   "outputs": [],
   "source": [
    "create_dataset(train_mapping, \"./dataset/train2017/\", new_train_fp)"
   ]
  },
  {
   "cell_type": "code",
   "execution_count": null,
   "id": "cc859e46-7a50-4915-8937-441b39841217",
   "metadata": {
    "tags": []
   },
   "outputs": [],
   "source": [
    "create_dataset(val_mapping, \"./dataset/val2017/\", new_val_fp)"
   ]
  },
  {
   "cell_type": "code",
   "execution_count": null,
   "id": "5a3e7a25-4ce9-4ef3-8874-8bde824a7beb",
   "metadata": {
    "tags": []
   },
   "outputs": [],
   "source": [
    "# write train mapping dict to json file\n",
    "with open(\"dataset/train_coco2017_annotation_new.json\", \"w\") as json_file:\n",
    "    json.dump(train_mapping, json_file)"
   ]
  },
  {
   "cell_type": "code",
   "execution_count": null,
   "id": "a2b180d3-c632-4ab2-8d19-4bbb0afd8649",
   "metadata": {
    "tags": []
   },
   "outputs": [],
   "source": [
    "# write val mapping dict to json file\n",
    "with open(\"dataset/val_coco2017_annotation_new.json\", \"w\") as json_file:\n",
    "    json.dump(val_mapping, json_file)"
   ]
  },
  {
   "cell_type": "code",
   "execution_count": null,
   "id": "d1f89c76-62a9-4cd1-8f4d-acecf8436fa1",
   "metadata": {
    "tags": []
   },
   "outputs": [],
   "source": [
    "# Zip newly extracted train dataset with 8 orientation\n",
    "!zip -q -r dataset/coco2017_8orienation_train_new.zip dataset/coco2017_8orienation_train_new/ "
   ]
  },
  {
   "cell_type": "code",
   "execution_count": null,
   "id": "7b71220b-ea3d-49fd-9e65-b19ba9a1f840",
   "metadata": {
    "tags": []
   },
   "outputs": [],
   "source": [
    "!zip -q -r dataset/coco2017_8orienation_val_new.zip dataset/coco2017_8orientation_val_new/"
   ]
  }
 ],
 "metadata": {
  "kernelspec": {
   "display_name": "conda_pytorch_p310",
   "language": "python",
   "name": "conda_pytorch_p310"
  },
  "language_info": {
   "codemirror_mode": {
    "name": "ipython",
    "version": 3
   },
   "file_extension": ".py",
   "mimetype": "text/x-python",
   "name": "python",
   "nbconvert_exporter": "python",
   "pygments_lexer": "ipython3",
   "version": "3.10.14"
  }
 },
 "nbformat": 4,
 "nbformat_minor": 5
}
